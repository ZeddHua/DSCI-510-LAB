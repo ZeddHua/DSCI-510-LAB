{
 "cells": [
  {
   "cell_type": "markdown",
   "metadata": {},
   "source": [
    "Lab 7\n",
    "---\n",
    "Hello All,\n",
    "\n",
    "Welcome to the DSCI 510's lab.\n",
    "\n",
    "Guidelines for the Lab:\n",
    "- You will be given the lab assignment in the start of the lab. You are supposed to complete it by the deadline stated on blackboard.\n",
    "\n",
    "- You have to complete the assignments individually. If you are having trouble completing the assignment do let us know, we will clear your doubts and guide you but we will not write code for you and no one else should :) !!!  \n",
    "\n",
    "- You have to fill in the code in this notebook and upload it to back to blackboard/D2L for submission. While doing this make sure that all supporting files, if there are any, that you download from blackboard/D2L are in the same directory as this notebook.  \n",
    "\n",
    "- You are encouraged to look up resources online like python docs and stackoverflow. But, you are encouraged to look up the topics and not the questions themselves.\n",
    "\n",
    "- Your last submission will be counted towards your grade."
   ]
  },
  {
   "cell_type": "markdown",
   "metadata": {},
   "source": [
    "**We, the \"510\" team wish you all the best for your coming midterm.**"
   ]
  },
  {
   "cell_type": "markdown",
   "metadata": {},
   "source": [
    "Q1. [5 points]\n",
    "---\n",
    "Fill the function below that checks whether the given string ```s``` is palindrome or not.  \n",
    "\n",
    "```A string is palindrome if it stays the same when read from backward.```  \n",
    "    \n",
    "- For example, the strings '12321' or 'level' or 'racecar' are palindrome and the strings 'hello', 'weird', '123' are not palindrome.  \n",
    "    \n",
    "Input: String  \n",
    "Return Output: Boolean  \n",
    "\n",
    "---\n",
    "Grading Rubric: Binary"
   ]
  },
  {
   "cell_type": "code",
   "execution_count": 18,
   "metadata": {
    "execution": {
     "iopub.execute_input": "2021-10-07T21:30:08.273638Z",
     "iopub.status.busy": "2021-10-07T21:30:08.273638Z",
     "iopub.status.idle": "2021-10-07T21:30:08.281615Z",
     "shell.execute_reply": "2021-10-07T21:30:08.281615Z",
     "shell.execute_reply.started": "2021-10-07T21:30:08.273638Z"
    }
   },
   "outputs": [],
   "source": [
    "def is_palindrome(s):\n",
    "    for i in range(len(s)):\n",
    "        if s[i]!=s[len(s)-1-i]:\n",
    "            return False\n",
    "    return True"
   ]
  },
  {
   "cell_type": "code",
   "execution_count": 22,
   "metadata": {
    "execution": {
     "iopub.execute_input": "2021-10-07T21:30:19.506306Z",
     "iopub.status.busy": "2021-10-07T21:30:19.506306Z",
     "iopub.status.idle": "2021-10-07T21:30:19.517277Z",
     "shell.execute_reply": "2021-10-07T21:30:19.517277Z",
     "shell.execute_reply.started": "2021-10-07T21:30:19.506306Z"
    }
   },
   "outputs": [
    {
     "data": {
      "text/plain": [
       "True"
      ]
     },
     "execution_count": 22,
     "metadata": {},
     "output_type": "execute_result"
    }
   ],
   "source": [
    "is_palindrome(\"racecar\")"
   ]
  },
  {
   "cell_type": "markdown",
   "metadata": {},
   "source": [
    "Q2. [15 points]\n",
    "---\n",
    "Given a text string, return the top k words sorted by frequency. If there are multiple options to include, add the words that are lexicographically smaller.  \n",
    "\n",
    "Note:  \n",
    "    - Strings in different letter case are considered different. For example, 'hey' and 'Hey' are different.   \n",
    "    - No need to remove special characters.  \n",
    "\n",
    "Input: string, integer  \n",
    "Return Output: List of strings\n",
    "\n",
    "Example 1:  \n",
    "Input:  \n",
    "text = 'this string would give you this output', k = 1  \n",
    "Output:  \n",
    "['this']  \n",
    "Example 2:  \n",
    "Input:  \n",
    "text = 'that is fun', k = 2  \n",
    "Output:  \n",
    "['fun', 'is']  \n",
    "\n",
    "---\n",
    "Grading Rubric: 5 points if lexicographically smaller constraint is not satisfied. 15 points if everything is correct. "
   ]
  },
  {
   "cell_type": "code",
   "execution_count": 33,
   "metadata": {
    "execution": {
     "iopub.execute_input": "2021-10-06T23:59:37.583308Z",
     "iopub.status.busy": "2021-10-06T23:59:37.583308Z",
     "iopub.status.idle": "2021-10-06T23:59:37.594279Z",
     "shell.execute_reply": "2021-10-06T23:59:37.594279Z",
     "shell.execute_reply.started": "2021-10-06T23:59:37.583308Z"
    }
   },
   "outputs": [],
   "source": [
    "def top_k(text, k):\n",
    "\n",
    "    # Make a dict with frequencies\n",
    "    lst = text.split()\n",
    "    dic = dict()\n",
    "    for i in lst:\n",
    "        dic[i] = dic.get(i,0) + 1\n",
    "    \n",
    "    # Making another dict with key as frequency and value as list of words having the same freq\n",
    "    dic1 = dict()\n",
    "    for i in dic.values():\n",
    "        list1 = []\n",
    "        for key,v in dic.items():\n",
    "            if v==i:\n",
    "                list1.append(key)\n",
    "            dic1[i] = list1\n",
    "        \n",
    "    # Sort over frequencies\n",
    "    dic1_list = sorted(dic1, reverse=True)\n",
    "    \n",
    "    # Sort the words internally lexicographically\n",
    "    for v in dic1.values():\n",
    "        v = sorted(v)\n",
    "\n",
    "    # Get the words in order and put them in top_k_list\n",
    "    lst = []\n",
    "    for i in dic1_list:\n",
    "        lst.append(dic1[i])\n",
    "    lst = [j for i in lst for j in i]\n",
    "    top_k_list = lst[:k]\n",
    "    return top_k_list"
   ]
  },
  {
   "cell_type": "code",
   "execution_count": 39,
   "metadata": {
    "execution": {
     "iopub.execute_input": "2021-10-07T04:06:37.193804Z",
     "iopub.status.busy": "2021-10-07T04:06:37.193804Z",
     "iopub.status.idle": "2021-10-07T04:06:37.197794Z",
     "shell.execute_reply": "2021-10-07T04:06:37.197794Z",
     "shell.execute_reply.started": "2021-10-07T04:06:37.193804Z"
    }
   },
   "outputs": [
    {
     "data": {
      "text/plain": [
       "['this']"
      ]
     },
     "execution_count": 39,
     "metadata": {},
     "output_type": "execute_result"
    }
   ],
   "source": [
    "top_k(\"this string would give you this output\", 1)"
   ]
  },
  {
   "cell_type": "markdown",
   "metadata": {},
   "source": [
    "Q3. [10 points]\n",
    "---\n",
    "Create a lecture class. Please create an object definition which fits the following the guidelines.  \n",
    "\n",
    "Every lecture object must be instantiated(params to the constructor) with the following String variables:\n",
    "1. Professor Name\n",
    "2. Start Time\n",
    "3. End Time\n",
    "4. Id\n",
    "\n",
    "Hence, lecture class' object could be created like ```my_lecture = lecture('Yigal', '1300', '1500', '1')```  \n",
    "\n",
    "Every lecture object must have the following functions:\n",
    "1. Add Student to the class \n",
    "    * Definition - add_student(student_name) Types - [string] No Return \n",
    "2. Remove Student from the class  \n",
    "    * Definition - remove_student(student_name) Types - [string] No Return \n",
    "3. Add a rating to the class \n",
    "    * Definition - add_rating(rating) Types - [float] No Return \n",
    "4. What is the average rating of the class  \n",
    "    * Definition - avg_rating() (*if nothing in the list just return 0*) Return rating \n",
    "5. Setter function for the boolean variable is_there_hw, which reverses the current boolean value (Default of is_there_hw is False)\n",
    "    * So if is_there_hw was False, and you call this function it sets it to True and vice versa\n",
    "    * Definition - set_hw() No Return \n",
    "6. Getter function for is_there_hw\n",
    "    * simply returns the state of the is_there_hw variable\n",
    "    * Definition - get_hw() Return boolean  \n",
    "7. Get students list\n",
    "    * simply returns the list of students in the class\n",
    "    * Definition - get_students() Return list  \n",
    "\n",
    "\n",
    "So there are 8 functions you have to create, the 7 above and the one `__init__` function.   \n",
    "\n",
    "---\n",
    "Grading Rubric: Each correct function will give you 1 point, except for avg_rating, which will give you 3 points if correct."
   ]
  },
  {
   "cell_type": "code",
   "execution_count": 25,
   "metadata": {
    "execution": {
     "iopub.execute_input": "2021-10-07T21:39:36.315166Z",
     "iopub.status.busy": "2021-10-07T21:39:36.315166Z",
     "iopub.status.idle": "2021-10-07T21:39:36.324141Z",
     "shell.execute_reply": "2021-10-07T21:39:36.324141Z",
     "shell.execute_reply.started": "2021-10-07T21:39:36.315166Z"
    }
   },
   "outputs": [],
   "source": [
    "class lecture:\n",
    "    lst = []\n",
    "    rating = []\n",
    "    is_there_hw = False\n",
    "    \n",
    "    def __init__(self, NAME, ST, ET, ID):\n",
    "        self.ProfessorName = NAME\n",
    "        self.StartTime = ST\n",
    "        self.EndTime = ET\n",
    "        self.ID = ID\n",
    "        \n",
    "    def add_student(self, student_name):\n",
    "        self.lst.append(student_name)\n",
    "        \n",
    "    def remove_student(self, student_name):\n",
    "        if student_name in self.lst:\n",
    "            self.lst.remove(student_name)\n",
    "        \n",
    "    def add_rating(self, rating):\n",
    "        self.rating.append(float(rating))\n",
    "        \n",
    "    def avg_rating(self):\n",
    "        if self.rating:\n",
    "            avg = sum(self.rating)/len(self.rating)\n",
    "            return avg\n",
    "        else:\n",
    "            return 0\n",
    "\n",
    "    def set_hw(self):\n",
    "        self.is_there_hw = not self.is_there_hw\n",
    "\n",
    "    def get_hw(self):\n",
    "        return self.is_there_hw\n",
    "\n",
    "    def get_students(self):\n",
    "        return self.lst"
   ]
  },
  {
   "cell_type": "markdown",
   "metadata": {},
   "source": [
    "Fun Easy Bonus Question[5 points]\n",
    "---\n",
    "You are playing the following Game with your friend:\n",
    "\n",
    "- Initially, there is a heap of stones on the table.  \n",
    "- You and your friend will alternate taking turns, and you go first.  \n",
    "- On each turn, the person whose turn it is will remove 1 to 3 stones from the heap.  \n",
    "- The one who removes the last stone is the winner.  \n",
    "- Given n, the number of stones in the heap, return True if you can win the game assuming both you and your friend play optimally, otherwise return False.  \n",
    "\n",
    "Example:  \n",
    "Input: n = 4  \n",
    "Return Output: False  \n",
    "Explanation: These are the possible outcomes:  \n",
    "1. You remove 1 stone. Your friend removes 3 stones, including the last stone. Your friend wins.  \n",
    "2. You remove 2 stones. Your friend removes 2 stones, including the last stone. Your friend wins.  \n",
    "3. You remove 3 stones. Your friend removes the last stone. Your friend wins.  \n",
    "\n",
    "In all outcomes, your friend wins.  \n",
    "\n",
    "---\n",
    "Grading Rubric: Binary"
   ]
  },
  {
   "cell_type": "code",
   "execution_count": 35,
   "metadata": {
    "execution": {
     "iopub.execute_input": "2021-10-07T00:45:32.927875Z",
     "iopub.status.busy": "2021-10-07T00:45:32.927875Z",
     "iopub.status.idle": "2021-10-07T00:45:32.939843Z",
     "shell.execute_reply": "2021-10-07T00:45:32.938845Z",
     "shell.execute_reply.started": "2021-10-07T00:45:32.927875Z"
    }
   },
   "outputs": [],
   "source": [
    "def is_winnable(n):\n",
    "    if n%4==0:\n",
    "        return False\n",
    "    else:\n",
    "        return True"
   ]
  },
  {
   "cell_type": "code",
   "execution_count": 44,
   "metadata": {
    "execution": {
     "iopub.execute_input": "2021-10-07T21:57:35.871327Z",
     "iopub.status.busy": "2021-10-07T21:57:35.871327Z",
     "iopub.status.idle": "2021-10-07T21:57:35.881299Z",
     "shell.execute_reply": "2021-10-07T21:57:35.881299Z",
     "shell.execute_reply.started": "2021-10-07T21:57:35.871327Z"
    }
   },
   "outputs": [],
   "source": [
    "def is_winnable(n):\n",
    "    return n%4!=0"
   ]
  },
  {
   "cell_type": "code",
   "execution_count": 45,
   "metadata": {
    "execution": {
     "iopub.execute_input": "2021-10-07T21:57:36.225385Z",
     "iopub.status.busy": "2021-10-07T21:57:36.225385Z",
     "iopub.status.idle": "2021-10-07T21:57:36.243373Z",
     "shell.execute_reply": "2021-10-07T21:57:36.243373Z",
     "shell.execute_reply.started": "2021-10-07T21:57:36.225385Z"
    }
   },
   "outputs": [
    {
     "data": {
      "text/plain": [
       "False"
      ]
     },
     "execution_count": 45,
     "metadata": {},
     "output_type": "execute_result"
    }
   ],
   "source": [
    "is_winnable(4)"
   ]
  }
 ],
 "metadata": {
  "kernelspec": {
   "display_name": "Python 3",
   "language": "python",
   "name": "python3"
  },
  "language_info": {
   "codemirror_mode": {
    "name": "ipython",
    "version": 3
   },
   "file_extension": ".py",
   "mimetype": "text/x-python",
   "name": "python",
   "nbconvert_exporter": "python",
   "pygments_lexer": "ipython3",
   "version": "3.8.8"
  }
 },
 "nbformat": 4,
 "nbformat_minor": 4
}

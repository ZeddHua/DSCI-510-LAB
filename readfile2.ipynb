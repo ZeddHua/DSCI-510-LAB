{
 "cells": [
  {
   "cell_type": "markdown",
   "metadata": {},
   "source": [
    "Lab 5\n",
    "---\n",
    "Hello All,\n",
    "\n",
    "Welcome to the DSCI 510's lab.\n",
    "\n",
    "Guidelines for the Lab:\n",
    "- You will be given the lab assignment in the start of the lab. You're supposed to complete it by the deadline stated, i.e., Thursday 11:59 PM PDT. \n",
    "\n",
    "- You've to complete the assignments individually. If you are having trouble completing the assignment do let me know, I will clear your doubts and guide you but I'll not write code for you and no one else should :) !!!  \n",
    "\n",
    "- You have to fill in the code in this notebook and upload it to back to blackboard for submission. While doing this, make sure that all supporting files that you download from blackboard are in the same directory as this notebook.  \n",
    "\n",
    "- You are encouraged to look up resources online like python docs and stackoverflow. But, you are encouraged to look up the topics and not the questions themselves  \n",
    "\n",
    "- Your last submission will be counted towards your grade  "
   ]
  },
  {
   "cell_type": "markdown",
   "metadata": {},
   "source": [
    "Q1.[10 Points]\n",
    "---\n",
    "You are given a file named Airports.txt. Data in each line is seperated by a tab(which is represented by '\\t' in python).  \n",
    "\n",
    "Each line of the file is in the format:\n",
    "\n",
    "```(type of airport, Name of the airport, Elevation from sealevel, Long and lat with \"\" seperated by comma). ```\n",
    "\n",
    "Example:\n",
    "```heliport\tTotal Rf Heliport\t11\t\"-74.93360137939453, 40.07080078125\"```\n",
    "\n",
    "Note: To read this file, you will need utf8 encoding hence, run \"file = open('Airports.txt', encoding='utf8')\" command for getting file handle.  \n",
    "\n",
    "For this question, open the file and return a dictionary with key as \"Name of the airport\" and value as a tuple of long and lat coordinates in format **(long, lat)**.  \n",
    "\n",
    "Input: none  \n",
    "Output: dictionary\n",
    "\n",
    "---\n",
    "Grading Rubric: 5 points if the sample input/output are correct. 10 if all correct."
   ]
  },
  {
   "cell_type": "code",
   "execution_count": 61,
   "metadata": {
    "execution": {
     "iopub.execute_input": "2021-09-22T23:12:55.663109Z",
     "iopub.status.busy": "2021-09-22T23:12:55.662111Z",
     "iopub.status.idle": "2021-09-22T23:12:55.670088Z",
     "shell.execute_reply": "2021-09-22T23:12:55.670088Z",
     "shell.execute_reply.started": "2021-09-22T23:12:55.663109Z"
    }
   },
   "outputs": [],
   "source": [
    "# Fill this function for your solution\n",
    "\n",
    "def get_airport_info():\n",
    "    with open('Airports.txt', encoding='utf8') as f:\n",
    "        airport_info = dict()\n",
    "        location = []\n",
    "        for line in f.readlines():\n",
    "            line = line.strip().split('\\t')\n",
    "            location = line[3].replace('\"','').split(', ')\n",
    "            location = [float(i) for i in location]\n",
    "            airport_info[line[1]] = tuple(location)\n",
    "    return airport_info"
   ]
  },
  {
   "cell_type": "code",
   "execution_count": 62,
   "metadata": {
    "execution": {
     "iopub.execute_input": "2021-09-22T23:12:55.959872Z",
     "iopub.status.busy": "2021-09-22T23:12:55.959872Z",
     "iopub.status.idle": "2021-09-22T23:12:56.225168Z",
     "shell.execute_reply": "2021-09-22T23:12:56.224162Z",
     "shell.execute_reply.started": "2021-09-22T23:12:55.959872Z"
    }
   },
   "outputs": [
    {
     "name": "stdout",
     "output_type": "stream",
     "text": [
      "Len of the dict returned : 52852\n",
      "First Element : ('Total Rf Heliport', (-74.93360137939453, 40.07080078125))\n"
     ]
    }
   ],
   "source": [
    "# Do not change this cell \n",
    "print('Len of the dict returned :', len(get_airport_info().items()))\n",
    "print('First Element :', list(get_airport_info().items())[0])"
   ]
  },
  {
   "cell_type": "markdown",
   "metadata": {},
   "source": [
    "Q2.[10 points] \n",
    "---\n",
    "For this question, you are given two arguments latitude and longitude. You are supposed to return the minimum distance airport from this location. Return the airport name for this question.  \n",
    "\n",
    "You are given a function named distance which takes parameters tuple - (long1, lat1), tuple - (long2, lat2) and returns distance in kms between both (long, lat) tuples.\n",
    "\n",
    "Use the function from Q1 to get the dictionary and utilize it for this question. If you are unable to complete Q1, you can assume that it works in Q2. We'll not use your function from Q1 while grading.  \n",
    "\n",
    "Input: float, float  \n",
    "Output: str\n",
    "\n",
    "---\n",
    "Grading Rubric: 5 points if the sample input/output are correct. 10 if all correct."
   ]
  },
  {
   "cell_type": "code",
   "execution_count": 56,
   "metadata": {
    "execution": {
     "iopub.execute_input": "2021-09-22T23:07:02.354769Z",
     "iopub.status.busy": "2021-09-22T23:07:02.353773Z",
     "iopub.status.idle": "2021-09-22T23:07:02.373798Z",
     "shell.execute_reply": "2021-09-22T23:07:02.372834Z",
     "shell.execute_reply.started": "2021-09-22T23:07:02.354769Z"
    }
   },
   "outputs": [],
   "source": [
    "# Use this cell for your solution\n",
    "from math import sin, cos, sqrt, atan2, radians\n",
    "def dist(point1, point2):\n",
    "    # approximate radius of earth in km\n",
    "    R = 6373.0\n",
    "    lat1 = radians(point1[1])\n",
    "    lon1 = radians(point1[0])\n",
    "    lat2 = radians(point2[1])\n",
    "    lon2 = radians(point2[0])\n",
    "    dlon = lon2 - lon1\n",
    "    dlat = lat2 - lat1\n",
    "    a = sin(dlat / 2)**2 + cos(lat1) * cos(lat2) * sin(dlon / 2)**2\n",
    "    c = 2 * atan2(sqrt(a), sqrt(1 - a))\n",
    "    distance = R * c\n",
    "    return distance"
   ]
  },
  {
   "cell_type": "code",
   "execution_count": 91,
   "metadata": {
    "execution": {
     "iopub.execute_input": "2021-09-22T23:39:28.239519Z",
     "iopub.status.busy": "2021-09-22T23:39:28.239519Z",
     "iopub.status.idle": "2021-09-22T23:39:28.246499Z",
     "shell.execute_reply": "2021-09-22T23:39:28.246499Z",
     "shell.execute_reply.started": "2021-09-22T23:39:28.239519Z"
    }
   },
   "outputs": [],
   "source": [
    "def get_nearest_airport(long, lat):\n",
    "    airport_info = get_airport_info()\n",
    "    point2 = (long,lat)\n",
    "    distance = dist(airport_info[list(get_airport_info())[0]], point2)\n",
    "    closest_airport = list(get_airport_info())[0]\n",
    "    for (k,v) in airport_info.items():\n",
    "        point1 = v\n",
    "        distance1 = dist(point1, point2)\n",
    "        if distance1<distance:\n",
    "            distance = distance1\n",
    "            closest_airport = k\n",
    "    return closest_airport"
   ]
  },
  {
   "cell_type": "code",
   "execution_count": 92,
   "metadata": {
    "execution": {
     "iopub.execute_input": "2021-09-22T23:39:30.759429Z",
     "iopub.status.busy": "2021-09-22T23:39:30.759429Z",
     "iopub.status.idle": "2021-09-22T23:39:31.169331Z",
     "shell.execute_reply": "2021-09-22T23:39:31.169331Z",
     "shell.execute_reply.started": "2021-09-22T23:39:30.759429Z"
    }
   },
   "outputs": [
    {
     "name": "stdout",
     "output_type": "stream",
     "text": [
      "Nearest airport from USC is\n",
      " Your output:  Maguire-California Hospital Helipad\n"
     ]
    }
   ],
   "source": [
    "# Do not change this cell\n",
    "print('Nearest airport from USC is\\n', 'Your output: ', get_nearest_airport(-118.289159, 34.024548))"
   ]
  },
  {
   "cell_type": "markdown",
   "metadata": {},
   "source": [
    "Q3.[10 points]\n",
    "---\n",
    "All DNA is composed of a series of nucleotides abbreviated as A, C, G, and T, for example: \"ACGAATTCCG\". When studying DNA, it is sometimes useful to identify repeated sequences within the DNA.  \n",
    "\n",
    "Write a function to find all the **10-letter-long sequences** (substrings) that occur more than once in a DNA molecule.  \n",
    "\n",
    "Input: string  \n",
    "Return Output: list of strings  \n",
    "\n",
    "Hint: If you use dictionaries, what will be the key? and value?   \n",
    "\n",
    "Example:  \n",
    "```\n",
    "Input  \n",
    "AAAAACCCCCAAAAACCCCCCAAAAAGGGTTT  \n",
    "Output  \n",
    "[\"AAAAACCCCC\", \"CCCCCAAAAA\"]  \n",
    "```\n",
    "---\n",
    "Grading Rubric: 5 points if the sample input/output are correct. 10 if all correct."
   ]
  },
  {
   "cell_type": "code",
   "execution_count": 122,
   "metadata": {
    "execution": {
     "iopub.execute_input": "2021-09-23T00:39:57.298200Z",
     "iopub.status.busy": "2021-09-23T00:39:57.298200Z",
     "iopub.status.idle": "2021-09-23T00:39:57.314155Z",
     "shell.execute_reply": "2021-09-23T00:39:57.313158Z",
     "shell.execute_reply.started": "2021-09-23T00:39:57.298200Z"
    }
   },
   "outputs": [],
   "source": [
    "def dna_sequences(sequence):\n",
    "    dic = dict()\n",
    "    results = []\n",
    "    for i in range(len(sequence)-9):\n",
    "        key = sequence[i:i+10]\n",
    "        dic[key] = dic.get(key,0)+1\n",
    "    for (k,v) in dic.items():\n",
    "        if v>1:\n",
    "            results.append(k)\n",
    "    return results"
   ]
  },
  {
   "cell_type": "code",
   "execution_count": 123,
   "metadata": {
    "execution": {
     "iopub.execute_input": "2021-09-23T00:39:57.911226Z",
     "iopub.status.busy": "2021-09-23T00:39:57.911226Z",
     "iopub.status.idle": "2021-09-23T00:39:57.918208Z",
     "shell.execute_reply": "2021-09-23T00:39:57.918208Z",
     "shell.execute_reply.started": "2021-09-23T00:39:57.911226Z"
    }
   },
   "outputs": [
    {
     "name": "stdout",
     "output_type": "stream",
     "text": [
      "Your output for sequence=AAAAACCCCCAAAAACCCCCCAAAAAGGGTTT is ['AAAAACCCCC', 'CCCCCAAAAA']\n"
     ]
    }
   ],
   "source": [
    "print('Your output for sequence=AAAAACCCCCAAAAACCCCCCAAAAAGGGTTT is', dna_sequences('AAAAACCCCCAAAAACCCCCCAAAAAGGGTTT'))"
   ]
  },
  {
   "cell_type": "markdown",
   "metadata": {},
   "source": [
    "Bonus Question[5 points]\n",
    "---\n",
    "Given a lat, long coordinate find k nearest airports from the location.\n",
    "\n",
    "Return a list of (airport_name, coordinates) tuple with size k.\n",
    "\n",
    "Input: float, float, int  \n",
    "Return Output: list of tuples\n",
    "\n",
    "---\n",
    "Grading Rubric: Binary"
   ]
  },
  {
   "cell_type": "code",
   "execution_count": 119,
   "metadata": {
    "execution": {
     "iopub.execute_input": "2021-09-23T00:29:15.353273Z",
     "iopub.status.busy": "2021-09-23T00:29:15.353273Z",
     "iopub.status.idle": "2021-09-23T00:29:15.368233Z",
     "shell.execute_reply": "2021-09-23T00:29:15.367236Z",
     "shell.execute_reply.started": "2021-09-23T00:29:15.353273Z"
    }
   },
   "outputs": [],
   "source": [
    "# Use this cell for your solution\n",
    "\n",
    "def k_nearest_airports(long, lat, k):\n",
    "    with open('Airports.txt', encoding='utf8') as f:\n",
    "        airport_info2 = dict()\n",
    "        location = []\n",
    "        point2 = (long,lat)\n",
    "        for line in f.readlines():\n",
    "            line = line.strip().split('\\t')\n",
    "            location = line[3].replace('\"','').split(', ')\n",
    "            location = [float(i) for i in location]\n",
    "            point1 = tuple(location)\n",
    "            airport_info2[line[1]] = dist(point1,point2)\n",
    "    #airport_info2\n",
    "    newlist = []\n",
    "    for key,v in airport_info2.items():\n",
    "        newlist.append((v,key))\n",
    "    newlist = sorted(newlist)\n",
    "    newlist = [(key,v) for v,key in newlist]\n",
    "    return newlist[:k]"
   ]
  },
  {
   "cell_type": "code",
   "execution_count": 120,
   "metadata": {
    "execution": {
     "iopub.execute_input": "2021-09-23T00:29:16.289279Z",
     "iopub.status.busy": "2021-09-23T00:29:16.288288Z",
     "iopub.status.idle": "2021-09-23T00:29:16.528698Z",
     "shell.execute_reply": "2021-09-23T00:29:16.528698Z",
     "shell.execute_reply.started": "2021-09-23T00:29:16.289279Z"
    }
   },
   "outputs": [
    {
     "name": "stdout",
     "output_type": "stream",
     "text": [
      "[('Maguire-California Hospital Helipad', 2.4148975367039647), ('Wells Fargo-Cv Heliport', 2.477877830095718), ('AT&T Center Heliport', 3.035119557068549), ('Chase Plaza Heliport', 3.19824789778354), ('International Tower Heliport', 3.423523764953157)]\n"
     ]
    }
   ],
   "source": [
    "# Do not change this cell \n",
    "print(k_nearest_airports(-118.289159, 34.024548, 5))"
   ]
  }
 ],
 "metadata": {
  "kernelspec": {
   "display_name": "Python 3",
   "language": "python",
   "name": "python3"
  },
  "language_info": {
   "codemirror_mode": {
    "name": "ipython",
    "version": 3
   },
   "file_extension": ".py",
   "mimetype": "text/x-python",
   "name": "python",
   "nbconvert_exporter": "python",
   "pygments_lexer": "ipython3",
   "version": "3.8.8"
  }
 },
 "nbformat": 4,
 "nbformat_minor": 4
}

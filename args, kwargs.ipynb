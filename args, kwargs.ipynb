{
 "cells": [
  {
   "cell_type": "markdown",
   "metadata": {},
   "source": [
    "# *args"
   ]
  },
  {
   "cell_type": "code",
   "execution_count": 1,
   "metadata": {
    "execution": {
     "iopub.execute_input": "2021-10-12T17:44:17.264197Z",
     "iopub.status.busy": "2021-10-12T17:44:17.264197Z",
     "iopub.status.idle": "2021-10-12T17:44:17.275929Z",
     "shell.execute_reply": "2021-10-12T17:44:17.275173Z",
     "shell.execute_reply.started": "2021-10-12T17:44:17.264197Z"
    },
    "scrolled": true
   },
   "outputs": [],
   "source": [
    "def f(arg1, *args):\n",
    "    print(\"First argument is:\", arg1)\n",
    "    for arg in args:\n",
    "        print(\"Next argument in *args is:\", arg)\n",
    "    return(args)"
   ]
  },
  {
   "cell_type": "code",
   "execution_count": 2,
   "metadata": {
    "execution": {
     "iopub.execute_input": "2021-10-12T17:44:18.204952Z",
     "iopub.status.busy": "2021-10-12T17:44:18.204952Z",
     "iopub.status.idle": "2021-10-12T17:44:18.220909Z",
     "shell.execute_reply": "2021-10-12T17:44:18.219984Z",
     "shell.execute_reply.started": "2021-10-12T17:44:18.204952Z"
    }
   },
   "outputs": [
    {
     "name": "stdout",
     "output_type": "stream",
     "text": [
      "First argument is: Yigal\n",
      "Next argument in *args is: Arens\n",
      "Next argument in *args is: 0\n",
      "Next argument in *args is: Anoter One\n"
     ]
    },
    {
     "data": {
      "text/plain": [
       "('Arens', 0, 'Anoter One')"
      ]
     },
     "execution_count": 2,
     "metadata": {},
     "output_type": "execute_result"
    }
   ],
   "source": [
    "f('Yigal','Arens', 0,'Anoter One')"
   ]
  },
  {
   "cell_type": "markdown",
   "metadata": {},
   "source": [
    "### What will happen with the following?"
   ]
  },
  {
   "cell_type": "code",
   "execution_count": 3,
   "metadata": {
    "execution": {
     "iopub.execute_input": "2021-10-10T17:40:48.039571Z",
     "iopub.status.busy": "2021-10-10T17:40:48.039410Z",
     "iopub.status.idle": "2021-10-10T17:40:48.048039Z",
     "shell.execute_reply": "2021-10-10T17:40:48.047437Z",
     "shell.execute_reply.started": "2021-10-10T17:40:48.039571Z"
    }
   },
   "outputs": [
    {
     "name": "stdout",
     "output_type": "stream",
     "text": [
      "First argument is: This is a test\n"
     ]
    },
    {
     "data": {
      "text/plain": [
       "()"
      ]
     },
     "execution_count": 3,
     "metadata": {},
     "output_type": "execute_result"
    }
   ],
   "source": [
    "f('This is a test')"
   ]
  },
  {
   "cell_type": "code",
   "execution_count": null,
   "metadata": {},
   "outputs": [],
   "source": [
    "f()"
   ]
  },
  {
   "cell_type": "markdown",
   "metadata": {},
   "source": [
    "# **kwargs"
   ]
  },
  {
   "cell_type": "code",
   "execution_count": 4,
   "metadata": {
    "execution": {
     "iopub.execute_input": "2021-10-10T17:45:28.467732Z",
     "iopub.status.busy": "2021-10-10T17:45:28.467463Z",
     "iopub.status.idle": "2021-10-10T17:45:28.484118Z",
     "shell.execute_reply": "2021-10-10T17:45:28.483445Z",
     "shell.execute_reply.started": "2021-10-10T17:45:28.467732Z"
    }
   },
   "outputs": [],
   "source": [
    "def name_items(**kwargs):\n",
    "    if kwargs is not None:\n",
    "        for (key, value) in kwargs.items():\n",
    "            print (key, '==', value)\n",
    "    return(kwargs)"
   ]
  },
  {
   "cell_type": "code",
   "execution_count": 5,
   "metadata": {
    "execution": {
     "iopub.execute_input": "2021-10-10T17:45:28.889770Z",
     "iopub.status.busy": "2021-10-10T17:45:28.889770Z",
     "iopub.status.idle": "2021-10-10T17:45:28.896435Z",
     "shell.execute_reply": "2021-10-10T17:45:28.895772Z",
     "shell.execute_reply.started": "2021-10-10T17:45:28.889770Z"
    }
   },
   "outputs": [
    {
     "name": "stdout",
     "output_type": "stream",
     "text": [
      "firstName == Yigal\n",
      "lastName == Arens\n",
      "job == teacher\n",
      "salary == 10000\n"
     ]
    },
    {
     "data": {
      "text/plain": [
       "{'firstName': 'Yigal', 'lastName': 'Arens', 'job': 'teacher', 'salary': 10000}"
      ]
     },
     "execution_count": 5,
     "metadata": {},
     "output_type": "execute_result"
    }
   ],
   "source": [
    "name_items(firstName=\"Yigal\", lastName='Arens', job='teacher', salary=10000)"
   ]
  },
  {
   "cell_type": "markdown",
   "metadata": {},
   "source": [
    "### NOTE: kwargs is a dictionary!"
   ]
  },
  {
   "cell_type": "code",
   "execution_count": null,
   "metadata": {},
   "outputs": [],
   "source": [
    "name_items() "
   ]
  },
  {
   "cell_type": "markdown",
   "metadata": {},
   "source": [
    "# Passing Arguments"
   ]
  },
  {
   "cell_type": "code",
   "execution_count": 6,
   "metadata": {
    "execution": {
     "iopub.execute_input": "2021-10-10T17:50:54.506952Z",
     "iopub.status.busy": "2021-10-10T17:50:54.506952Z",
     "iopub.status.idle": "2021-10-10T17:50:54.520373Z",
     "shell.execute_reply": "2021-10-10T17:50:54.519949Z",
     "shell.execute_reply.started": "2021-10-10T17:50:54.506952Z"
    }
   },
   "outputs": [],
   "source": [
    "def testing(arg1, arg2, arg3):\n",
    "    print(\"arg1 is\", arg1)\n",
    "    print(\"arg2 is\", arg2)\n",
    "    print(\"arg3 is\", arg3)"
   ]
  },
  {
   "cell_type": "code",
   "execution_count": 8,
   "metadata": {
    "execution": {
     "iopub.execute_input": "2021-10-10T17:51:05.252047Z",
     "iopub.status.busy": "2021-10-10T17:51:05.252047Z",
     "iopub.status.idle": "2021-10-10T17:51:05.268602Z",
     "shell.execute_reply": "2021-10-10T17:51:05.268009Z",
     "shell.execute_reply.started": "2021-10-10T17:51:05.252047Z"
    }
   },
   "outputs": [
    {
     "name": "stdout",
     "output_type": "stream",
     "text": [
      "arg1 is two\n",
      "arg2 is 3\n",
      "arg3 is 5\n"
     ]
    }
   ],
   "source": [
    "args = (\"two\", 3, 5)\n",
    "testing(*args)"
   ]
  },
  {
   "cell_type": "code",
   "execution_count": null,
   "metadata": {},
   "outputs": [],
   "source": [
    "kwargs = {\"arg3\": 3, \"arg2\": \"two\",\"arg1\":5}"
   ]
  },
  {
   "cell_type": "code",
   "execution_count": null,
   "metadata": {},
   "outputs": [],
   "source": [
    "testing(**kwargs)"
   ]
  },
  {
   "cell_type": "markdown",
   "metadata": {},
   "source": [
    "# Order, if you use \\*args \\*\\*kwargs and formal arguments:\n",
    "# some_function(list of formal args, \\*args, \\*\\*kwargs)"
   ]
  },
  {
   "cell_type": "code",
   "execution_count": 9,
   "metadata": {
    "execution": {
     "iopub.execute_input": "2021-10-10T17:57:04.220760Z",
     "iopub.status.busy": "2021-10-10T17:57:04.220760Z",
     "iopub.status.idle": "2021-10-10T17:57:04.233724Z",
     "shell.execute_reply": "2021-10-10T17:57:04.233724Z",
     "shell.execute_reply.started": "2021-10-10T17:57:04.220760Z"
    }
   },
   "outputs": [],
   "source": [
    "def func(required_arg, *args, **kwargs):\n",
    "    # required_arg is a positional-only parameter.\n",
    "    print(required_arg)\n",
    "\n",
    "    # args is a tuple of positional arguments,\n",
    "    # because the parameter name has * prepended.\n",
    "    if args: # If args is not empty.\n",
    "        print(args)\n",
    "\n",
    "    # kwargs is a dictionary of keyword arguments,\n",
    "    # because the parameter name has ** prepended.\n",
    "    if kwargs: # If kwargs is not empty.\n",
    "        print(kwargs)"
   ]
  },
  {
   "cell_type": "code",
   "execution_count": 10,
   "metadata": {
    "execution": {
     "iopub.execute_input": "2021-10-10T17:57:04.648645Z",
     "iopub.status.busy": "2021-10-10T17:57:04.647647Z",
     "iopub.status.idle": "2021-10-10T17:57:04.832449Z",
     "shell.execute_reply": "2021-10-10T17:57:04.831472Z",
     "shell.execute_reply.started": "2021-10-10T17:57:04.648645Z"
    }
   },
   "outputs": [
    {
     "ename": "TypeError",
     "evalue": "func() missing 1 required positional argument: 'required_arg'",
     "output_type": "error",
     "traceback": [
      "\u001b[1;31m---------------------------------------------------------------------------\u001b[0m",
      "\u001b[1;31mTypeError\u001b[0m                                 Traceback (most recent call last)",
      "\u001b[1;32m<ipython-input-10-bd1982955a12>\u001b[0m in \u001b[0;36m<module>\u001b[1;34m\u001b[0m\n\u001b[1;32m----> 1\u001b[1;33m \u001b[0mfunc\u001b[0m\u001b[1;33m(\u001b[0m\u001b[1;33m)\u001b[0m\u001b[1;33m\u001b[0m\u001b[1;33m\u001b[0m\u001b[0m\n\u001b[0m",
      "\u001b[1;31mTypeError\u001b[0m: func() missing 1 required positional argument: 'required_arg'"
     ]
    }
   ],
   "source": [
    "func()"
   ]
  },
  {
   "cell_type": "code",
   "execution_count": 11,
   "metadata": {
    "execution": {
     "iopub.execute_input": "2021-10-10T17:57:10.391481Z",
     "iopub.status.busy": "2021-10-10T17:57:10.391244Z",
     "iopub.status.idle": "2021-10-10T17:57:10.400915Z",
     "shell.execute_reply": "2021-10-10T17:57:10.400248Z",
     "shell.execute_reply.started": "2021-10-10T17:57:10.391481Z"
    }
   },
   "outputs": [
    {
     "name": "stdout",
     "output_type": "stream",
     "text": [
      "required argument\n"
     ]
    }
   ],
   "source": [
    "func(\"required argument\")"
   ]
  },
  {
   "cell_type": "code",
   "execution_count": 12,
   "metadata": {
    "execution": {
     "iopub.execute_input": "2021-10-10T17:57:18.644349Z",
     "iopub.status.busy": "2021-10-10T17:57:18.644127Z",
     "iopub.status.idle": "2021-10-10T17:57:18.651331Z",
     "shell.execute_reply": "2021-10-10T17:57:18.651155Z",
     "shell.execute_reply.started": "2021-10-10T17:57:18.644313Z"
    }
   },
   "outputs": [
    {
     "name": "stdout",
     "output_type": "stream",
     "text": [
      "required argument\n",
      "(1, 2, '3')\n"
     ]
    }
   ],
   "source": [
    "func(\"required argument\", 1, 2, '3')"
   ]
  },
  {
   "cell_type": "code",
   "execution_count": 13,
   "metadata": {
    "execution": {
     "iopub.execute_input": "2021-10-10T17:57:28.635462Z",
     "iopub.status.busy": "2021-10-10T17:57:28.635462Z",
     "iopub.status.idle": "2021-10-10T17:57:28.655124Z",
     "shell.execute_reply": "2021-10-10T17:57:28.654485Z",
     "shell.execute_reply.started": "2021-10-10T17:57:28.635462Z"
    }
   },
   "outputs": [
    {
     "name": "stdout",
     "output_type": "stream",
     "text": [
      "required argument\n",
      "(1, 2, '3')\n",
      "{'keyword1': 4, 'keyword2': 'foo'}\n"
     ]
    }
   ],
   "source": [
    "func(\"required argument\", 1, 2, '3', keyword1=4, keyword2=\"foo\")"
   ]
  },
  {
   "cell_type": "markdown",
   "metadata": {},
   "source": [
    "# And now for something a bit more complex..."
   ]
  },
  {
   "cell_type": "code",
   "execution_count": null,
   "metadata": {},
   "outputs": [],
   "source": [
    "class test_class(object):\n",
    "    global_to_all_instances = 0 \n",
    "    def __init__(self, *args, **kwargs):\n",
    "        self.defined_at_init = 'hi!'\n",
    "        print('Object of type', self.__class__.__name__,\\\n",
    "              'has args', args, 'and keyword args', kwargs)\n",
    "    def increment_global(self):\n",
    "        test_class.global_to_all_instances += 1\n",
    "    def print_global_to_all_instances(self):\n",
    "        # Notice we're using the CLASSNAME below instead of self!\n",
    "        print(test_class.global_to_all_instances)\n",
    "    def print_local_instance_attribute(self):\n",
    "        # But this time we're using self\n",
    "        print(self.local_attribute)"
   ]
  },
  {
   "cell_type": "code",
   "execution_count": null,
   "metadata": {},
   "outputs": [],
   "source": [
    "first = test_class('this', 'is', 'cool', 10, stuff='things', zip_code = 90210)"
   ]
  },
  {
   "cell_type": "code",
   "execution_count": null,
   "metadata": {},
   "outputs": [],
   "source": [
    "second = test_class()"
   ]
  },
  {
   "cell_type": "code",
   "execution_count": null,
   "metadata": {},
   "outputs": [],
   "source": [
    "first.global_to_all_instances"
   ]
  },
  {
   "cell_type": "code",
   "execution_count": null,
   "metadata": {},
   "outputs": [],
   "source": [
    "second.global_to_all_instances"
   ]
  },
  {
   "cell_type": "code",
   "execution_count": null,
   "metadata": {},
   "outputs": [],
   "source": [
    "print(first.defined_at_init)\n",
    "print(second.defined_at_init)"
   ]
  },
  {
   "cell_type": "code",
   "execution_count": null,
   "metadata": {},
   "outputs": [],
   "source": [
    "first.local_attribute"
   ]
  },
  {
   "cell_type": "code",
   "execution_count": null,
   "metadata": {},
   "outputs": [],
   "source": [
    "first.local_attribute = 10"
   ]
  },
  {
   "cell_type": "code",
   "execution_count": null,
   "metadata": {},
   "outputs": [],
   "source": [
    "first.local_attribute"
   ]
  },
  {
   "cell_type": "code",
   "execution_count": null,
   "metadata": {},
   "outputs": [],
   "source": [
    "second.local_attribute"
   ]
  },
  {
   "cell_type": "code",
   "execution_count": null,
   "metadata": {},
   "outputs": [],
   "source": [
    "first.print_local_instance_attribute()"
   ]
  },
  {
   "cell_type": "code",
   "execution_count": null,
   "metadata": {},
   "outputs": [],
   "source": [
    "second.print_local_instance_attribute()"
   ]
  },
  {
   "cell_type": "code",
   "execution_count": null,
   "metadata": {},
   "outputs": [],
   "source": [
    "first.print_global_to_all_instances()\n",
    "second.print_global_to_all_instances()"
   ]
  },
  {
   "cell_type": "code",
   "execution_count": null,
   "metadata": {},
   "outputs": [],
   "source": [
    "first.increment_global()"
   ]
  },
  {
   "cell_type": "code",
   "execution_count": null,
   "metadata": {},
   "outputs": [],
   "source": [
    "first.print_global_to_all_instances()"
   ]
  },
  {
   "cell_type": "code",
   "execution_count": null,
   "metadata": {},
   "outputs": [],
   "source": [
    "second.print_global_to_all_instances()"
   ]
  },
  {
   "cell_type": "code",
   "execution_count": null,
   "metadata": {},
   "outputs": [],
   "source": [
    "first.global_to_all_instances = 10"
   ]
  },
  {
   "cell_type": "code",
   "execution_count": null,
   "metadata": {},
   "outputs": [],
   "source": [
    "first.print_global_to_all_instances()"
   ]
  },
  {
   "cell_type": "code",
   "execution_count": null,
   "metadata": {},
   "outputs": [],
   "source": [
    "first.__dict__"
   ]
  },
  {
   "cell_type": "code",
   "execution_count": null,
   "metadata": {},
   "outputs": [],
   "source": [
    "second.__dict__"
   ]
  },
  {
   "cell_type": "code",
   "execution_count": null,
   "metadata": {},
   "outputs": [],
   "source": [
    "second.global_to_all_instances"
   ]
  },
  {
   "cell_type": "code",
   "execution_count": null,
   "metadata": {},
   "outputs": [],
   "source": [
    "first.global_to_all_instances"
   ]
  },
  {
   "cell_type": "code",
   "execution_count": null,
   "metadata": {},
   "outputs": [],
   "source": [
    "test_class.global_to_all_instances"
   ]
  },
  {
   "cell_type": "code",
   "execution_count": null,
   "metadata": {},
   "outputs": [],
   "source": [
    "test_class.__dict__"
   ]
  },
  {
   "cell_type": "code",
   "execution_count": null,
   "metadata": {},
   "outputs": [],
   "source": []
  }
 ],
 "metadata": {
  "kernelspec": {
   "display_name": "Python 3",
   "language": "python",
   "name": "python3"
  },
  "language_info": {
   "codemirror_mode": {
    "name": "ipython",
    "version": 3
   },
   "file_extension": ".py",
   "mimetype": "text/x-python",
   "name": "python",
   "nbconvert_exporter": "python",
   "pygments_lexer": "ipython3",
   "version": "3.8.8"
  }
 },
 "nbformat": 4,
 "nbformat_minor": 4
}

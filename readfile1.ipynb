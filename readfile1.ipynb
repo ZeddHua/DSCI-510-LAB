{
 "cells": [
  {
   "cell_type": "markdown",
   "metadata": {},
   "source": [
    "Lab 4\n",
    "---\n",
    "Hello All,\n",
    "\n",
    "Welcome to the DSCI 510's lab.\n",
    "\n",
    "Guidelines for the Lab:\n",
    "- You will be given the lab assignment in the start of the lab. You're supposed to complete it by 11:59pm on Thursday.  \n",
    "\n",
    "- You've to complete the assignments individually. If you are having trouble completing the assignment do let me know, I will clear your doubts and guide you but I'll not write code for you and no one else should :) !!!  \n",
    "\n",
    "- You have to fill in the code in this notebook and upload it for submission. While doing this, make sure that all supporting files that you download are in the same directory as this notebook.  \n",
    "\n",
    "- You are encouraged to look up resources online like python docs and stackoverflow. But, you are encouraged to look up the topics and not the questions themselves  \n",
    "\n",
    "- Your last submission will be counted towards your grade  "
   ]
  },
  {
   "cell_type": "markdown",
   "metadata": {},
   "source": [
    "Q1.[2 Points]\n",
    "---\n",
    "You are given a txt file named 'Data.txt', download it and keep it in the same location where you have this notebook. \n",
    "\n",
    "For this question, simply open the file and return the count of lines in the file.\n",
    "\n",
    "Input: none  \n",
    "Output: int\n",
    "\n",
    "---\n",
    "Rubric: Binary"
   ]
  },
  {
   "cell_type": "code",
   "execution_count": 5,
   "metadata": {
    "execution": {
     "iopub.execute_input": "2021-09-15T22:35:16.363743Z",
     "iopub.status.busy": "2021-09-15T22:35:16.363743Z",
     "iopub.status.idle": "2021-09-15T22:35:16.373344Z",
     "shell.execute_reply": "2021-09-15T22:35:16.371875Z",
     "shell.execute_reply.started": "2021-09-15T22:35:16.363743Z"
    }
   },
   "outputs": [],
   "source": [
    "# Fill this function for your solution\n",
    "\n",
    "def number_of_lines():\n",
    "    with open('Data.txt') as file:\n",
    "        count = 0\n",
    "        for line in file:\n",
    "            count += 1\n",
    "    return count"
   ]
  },
  {
   "cell_type": "code",
   "execution_count": 6,
   "metadata": {
    "execution": {
     "iopub.execute_input": "2021-09-15T22:35:17.245087Z",
     "iopub.status.busy": "2021-09-15T22:35:17.245087Z",
     "iopub.status.idle": "2021-09-15T22:35:17.263128Z",
     "shell.execute_reply": "2021-09-15T22:35:17.262133Z",
     "shell.execute_reply.started": "2021-09-15T22:35:17.245087Z"
    }
   },
   "outputs": [
    {
     "name": "stdout",
     "output_type": "stream",
     "text": [
      "4999\n"
     ]
    }
   ],
   "source": [
    "# Do not change this cell \n",
    "print(number_of_lines())"
   ]
  },
  {
   "cell_type": "markdown",
   "metadata": {},
   "source": [
    "Q2.[8 points] \n",
    "---\n",
    "For the file Data.txt, you have 4 floating point numbers in each line in the format.\n",
    "\n",
    "(Min Temperature(in C), Max Temperature(in C), Humidity%, Rainfall(in)) for a particular day.  \n",
    "\n",
    "For this question, you need to implement the logic that if Max temperature - Min temperature is greater than 10 and if humidity is greater than 50%, it is rainy else it is sunny.  \n",
    "\n",
    "You need to return the count of rainy days for this question.  \n",
    "\n",
    "Input: none\n",
    "Output: int\n",
    "\n",
    "---\n",
    "Rubric: Binary"
   ]
  },
  {
   "cell_type": "code",
   "execution_count": 1,
   "metadata": {
    "execution": {
     "iopub.execute_input": "2021-10-08T21:12:38.691185Z",
     "iopub.status.busy": "2021-10-08T21:12:38.691185Z",
     "iopub.status.idle": "2021-10-08T21:12:38.705148Z",
     "shell.execute_reply": "2021-10-08T21:12:38.704150Z",
     "shell.execute_reply.started": "2021-10-08T21:12:38.691185Z"
    }
   },
   "outputs": [],
   "source": [
    "# Use this cell for your solution\n",
    "\n",
    "def weather():\n",
    "    count = 0\n",
    "    with open('Data.txt') as f:\n",
    "        for line in f.readlines():\n",
    "            line = line.split()\n",
    "            line = [float(i) for i in line]\n",
    "            if (line[1]-line[0]>10) and (line[2]>50):\n",
    "                count += 1\n",
    "    return count"
   ]
  },
  {
   "cell_type": "code",
   "execution_count": 2,
   "metadata": {
    "execution": {
     "iopub.execute_input": "2021-10-08T21:12:39.396301Z",
     "iopub.status.busy": "2021-10-08T21:12:39.396301Z",
     "iopub.status.idle": "2021-10-08T21:12:39.428222Z",
     "shell.execute_reply": "2021-10-08T21:12:39.427219Z",
     "shell.execute_reply.started": "2021-10-08T21:12:39.396301Z"
    }
   },
   "outputs": [
    {
     "name": "stdout",
     "output_type": "stream",
     "text": [
      "3175\n"
     ]
    }
   ],
   "source": [
    "# Do not change this cell \n",
    "print(weather())"
   ]
  },
  {
   "cell_type": "code",
   "execution_count": 28,
   "metadata": {
    "execution": {
     "iopub.execute_input": "2021-09-15T23:11:39.020206Z",
     "iopub.status.busy": "2021-09-15T23:11:39.020206Z",
     "iopub.status.idle": "2021-09-15T23:11:39.029702Z",
     "shell.execute_reply": "2021-09-15T23:11:39.028532Z",
     "shell.execute_reply.started": "2021-09-15T23:11:39.020206Z"
    }
   },
   "outputs": [
    {
     "data": {
      "text/plain": [
       "[123.0, 4.0, 23.0]"
      ]
     },
     "execution_count": 28,
     "metadata": {},
     "output_type": "execute_result"
    }
   ],
   "source": [
    "#turn string to float in a list\n",
    "#1 create new list\n",
    "list1=['123','4','23']\n",
    "list2=[]\n",
    "for i in list1:\n",
    "    list2.append(float(i))\n",
    "list1 = list2\n",
    "list1\n",
    "#2 loop\n",
    "list1=['123','4','23']\n",
    "list1 = [float(i) for i in list1]\n",
    "list1\n",
    "#3 map func in list\n",
    "list1=['123','4','23']\n",
    "list1=list(map(float,list1))\n",
    "list1"
   ]
  },
  {
   "cell_type": "markdown",
   "metadata": {},
   "source": [
    "Q3.[10 Points]\n",
    "---\n",
    "Return the list of distinct words in a given text. You have to ignore any special characters present in the text.   \n",
    "\n",
    "You are given a function named remove_special_characters. You can use it for any of the questions in the lab. This function takes a input string and returns the string without any special characters(this includes the space(' ') character).\n",
    "\n",
    "Note: \n",
    "1. You need to remove characters which are not in the alphabet.\n",
    "2. You need to consider 'How' and 'how' as the same i.e., words are not case-sensitive. Hint: (Convert into common format)  \n",
    "3. Casing of the final answer doesn't matter.\n",
    "4. Order of the words in the returned list doesn't matter.\n",
    "5. You can use set() to remove duplicates\n",
    "\n",
    "Input: str  \n",
    "Output: list of str\n",
    "\n",
    "---\n",
    "For example, \n",
    "1.  \n",
    "Input:  \n",
    "text = 'How are you?'  \n",
    "Return output:  \n",
    "['how', 'are', 'you']  \n",
    "2.  \n",
    "Input:  \n",
    "text = 'Can you can a can as a canner can can a can?'  \n",
    "Return Output:   \n",
    "['can', 'you', 'canner', 'a', 'as']\n",
    "\n",
    "---\n",
    "Rubric:  \n",
    "If special characters are not removed from your output -2  \n",
    "If your output has more values because you didn't consider different cased words as the same -5 <br>\n",
    "If everything is correct 10"
   ]
  },
  {
   "cell_type": "code",
   "execution_count": 1,
   "metadata": {
    "execution": {
     "iopub.execute_input": "2021-09-26T00:26:35.465095Z",
     "iopub.status.busy": "2021-09-26T00:26:35.465095Z",
     "iopub.status.idle": "2021-09-26T00:26:35.484075Z",
     "shell.execute_reply": "2021-09-26T00:26:35.484075Z",
     "shell.execute_reply.started": "2021-09-26T00:26:35.465095Z"
    }
   },
   "outputs": [],
   "source": [
    "import re\n",
    "\n",
    "def remove_special_characters(word):\n",
    "    regex = re.compile('[^a-zA-Z]')\n",
    "    return regex.sub('', word)\n"
   ]
  },
  {
   "cell_type": "code",
   "execution_count": 10,
   "metadata": {
    "execution": {
     "iopub.execute_input": "2021-09-26T00:52:19.166581Z",
     "iopub.status.busy": "2021-09-26T00:52:19.166581Z",
     "iopub.status.idle": "2021-09-26T00:52:19.176555Z",
     "shell.execute_reply": "2021-09-26T00:52:19.176555Z",
     "shell.execute_reply.started": "2021-09-26T00:52:19.166581Z"
    }
   },
   "outputs": [],
   "source": [
    "# Fill this function for your solution\n",
    "def distinct_words(text):\n",
    "    text = text.lower()\n",
    "    list1 = text.split()\n",
    "    list1 = [remove_special_characters(i) for i in list1]\n",
    "    return list(set(list1))"
   ]
  },
  {
   "cell_type": "code",
   "execution_count": 7,
   "metadata": {
    "execution": {
     "iopub.execute_input": "2021-09-26T00:43:23.907817Z",
     "iopub.status.busy": "2021-09-26T00:43:23.906822Z",
     "iopub.status.idle": "2021-09-26T00:43:23.926959Z",
     "shell.execute_reply": "2021-09-26T00:43:23.925962Z",
     "shell.execute_reply.started": "2021-09-26T00:43:23.907817Z"
    }
   },
   "outputs": [
    {
     "data": {
      "text/plain": [
       "'Howareyou'"
      ]
     },
     "execution_count": 7,
     "metadata": {},
     "output_type": "execute_result"
    }
   ],
   "source": [
    "new_text = remove_special_characters('How are you?')\n",
    "new_text"
   ]
  },
  {
   "cell_type": "code",
   "execution_count": 11,
   "metadata": {
    "execution": {
     "iopub.execute_input": "2021-09-26T00:52:21.181836Z",
     "iopub.status.busy": "2021-09-26T00:52:21.181836Z",
     "iopub.status.idle": "2021-09-26T00:52:21.187820Z",
     "shell.execute_reply": "2021-09-26T00:52:21.187820Z",
     "shell.execute_reply.started": "2021-09-26T00:52:21.181836Z"
    }
   },
   "outputs": [
    {
     "name": "stdout",
     "output_type": "stream",
     "text": [
      "Your Output-> ['you', 'how', 'are'] Actual Output-> ['how', 'are', 'you']\n",
      "Your Output-> ['can', 'you', 'canner', 'a', 'as'] Actual Output-> ['can', 'you', 'canner', 'a', 'as']\n"
     ]
    }
   ],
   "source": [
    "# Do not change this cell \n",
    "print('Your Output->', distinct_words('How are you?'), 'Actual Output->', ['how', 'are', 'you'])\n",
    "print('Your Output->', distinct_words('Can you can a can as a canner can can a can?'), 'Actual Output->', ['can', 'you', 'canner', 'a', 'as']\n",
    ")\n"
   ]
  },
  {
   "cell_type": "markdown",
   "metadata": {},
   "source": [
    "Q4.[10 points] \n",
    "---\n",
    "Given two strings you need to return the list of common words from the two strings.  \n",
    "\n",
    "Also, you can and are encouraged to use the distinct_words function created in Q3.  \n",
    "\n",
    "If you're unable to solve Q3, you can solve Q4 independently assuming that a function distinct_words exists.  \n",
    "\n",
    "Input: str, str  \n",
    "Output: list of str\n",
    "\n",
    "\n",
    "---\n",
    "Example: \n",
    "1.  \n",
    "Input:   \n",
    "txt1 = 'how are you?', txt2 = 'are you sure?'  \n",
    "Output:  \n",
    "['are', 'you'] \n",
    "\n",
    "---\n",
    "Rubric: Binary"
   ]
  },
  {
   "cell_type": "code",
   "execution_count": 12,
   "metadata": {
    "execution": {
     "iopub.execute_input": "2021-09-26T00:52:32.861079Z",
     "iopub.status.busy": "2021-09-26T00:52:32.861079Z",
     "iopub.status.idle": "2021-09-26T00:52:32.867064Z",
     "shell.execute_reply": "2021-09-26T00:52:32.867064Z",
     "shell.execute_reply.started": "2021-09-26T00:52:32.861079Z"
    }
   },
   "outputs": [],
   "source": [
    "# Use this cell for your solution\n",
    "\n",
    "def common_words(txt1, txt2):\n",
    "    text1 = distinct_words(txt1)\n",
    "    text2 = distinct_words(txt2)\n",
    "    list_commonwords = []\n",
    "    for i in text1:\n",
    "        for j in text2:\n",
    "            if i == j:\n",
    "                list_commonwords.append(i)\n",
    "    return list_commonwords"
   ]
  },
  {
   "cell_type": "code",
   "execution_count": 5,
   "metadata": {
    "execution": {
     "iopub.execute_input": "2021-09-26T00:26:55.682436Z",
     "iopub.status.busy": "2021-09-26T00:26:55.682436Z",
     "iopub.status.idle": "2021-09-26T00:26:55.700387Z",
     "shell.execute_reply": "2021-09-26T00:26:55.700387Z",
     "shell.execute_reply.started": "2021-09-26T00:26:55.682436Z"
    }
   },
   "outputs": [],
   "source": [
    "# solution 2nd\n",
    "def common_words(txt1, txt2):\n",
    "    text1 = distinct_words(txt1)\n",
    "    text2 = distinct_words(txt2)\n",
    "    list_commonwords = [i for i in text1 if i in text2]\n",
    "    return list_commonwords"
   ]
  },
  {
   "cell_type": "code",
   "execution_count": 6,
   "metadata": {
    "execution": {
     "iopub.execute_input": "2021-09-26T00:26:56.089186Z",
     "iopub.status.busy": "2021-09-26T00:26:56.089186Z",
     "iopub.status.idle": "2021-09-26T00:26:56.104153Z",
     "shell.execute_reply": "2021-09-26T00:26:56.103123Z",
     "shell.execute_reply.started": "2021-09-26T00:26:56.089186Z"
    }
   },
   "outputs": [],
   "source": [
    "# solution 3rd\n",
    "def common_words(txt1, txt2):\n",
    "    set1 = set(distinct_words(txt1))\n",
    "    set2 = set(distinct_words(txt2))\n",
    "    return list(set1 & set2)"
   ]
  },
  {
   "cell_type": "code",
   "execution_count": 13,
   "metadata": {
    "execution": {
     "iopub.execute_input": "2021-09-26T00:52:35.933132Z",
     "iopub.status.busy": "2021-09-26T00:52:35.933132Z",
     "iopub.status.idle": "2021-09-26T00:52:35.937122Z",
     "shell.execute_reply": "2021-09-26T00:52:35.937122Z",
     "shell.execute_reply.started": "2021-09-26T00:52:35.933132Z"
    }
   },
   "outputs": [
    {
     "name": "stdout",
     "output_type": "stream",
     "text": [
      "Your output-> ['you', 'are'] Actual Output-> ['are', 'you']\n"
     ]
    }
   ],
   "source": [
    "# Do not change this cell \n",
    "print('Your output->', common_words('how are you?', 'are you sure?'), 'Actual Output->', ['are', 'you'])"
   ]
  },
  {
   "cell_type": "markdown",
   "metadata": {},
   "source": [
    "Bonus Question[5 points]\n",
    "---\n",
    "For the logic we implemented in question 2, check if our prediction is correct or wrong.  \n",
    "\n",
    "Precisely, if we predict rainy and rainfall is greater than 0 then it's correct else it's wrong. On the other hand, if we predict sunny and rainfall is 0, then it's correct else it's wrong.  \n",
    "\n",
    "You need to return the correct predictions for this question.  \n",
    "\n",
    "Input: none  \n",
    "Output: int  \n",
    "\n",
    "---\n",
    "Rubric: Binary"
   ]
  },
  {
   "cell_type": "code",
   "execution_count": 67,
   "metadata": {
    "execution": {
     "iopub.execute_input": "2021-09-16T03:34:25.664089Z",
     "iopub.status.busy": "2021-09-16T03:34:25.664089Z",
     "iopub.status.idle": "2021-09-16T03:34:25.671094Z",
     "shell.execute_reply": "2021-09-16T03:34:25.671094Z",
     "shell.execute_reply.started": "2021-09-16T03:34:25.664089Z"
    }
   },
   "outputs": [],
   "source": [
    "# Use this cell for your solution\n",
    "\n",
    "def prediction_result():\n",
    "    with open('Data.txt') as f:\n",
    "        count = 0\n",
    "        for line in f.readlines():\n",
    "            line = line.split()\n",
    "            line = [float(i) for i in line]\n",
    "            if (line[1]-line[0]>10) and (line[2]>50) and (line[3]>0):\n",
    "                count += 1\n",
    "            elif ((line[1]-line[0]<=10) or (line[2]<=50)) and (line[3]==0):\n",
    "                count += 1\n",
    "    return count"
   ]
  },
  {
   "cell_type": "code",
   "execution_count": 68,
   "metadata": {
    "execution": {
     "iopub.execute_input": "2021-09-16T03:34:27.478253Z",
     "iopub.status.busy": "2021-09-16T03:34:27.478253Z",
     "iopub.status.idle": "2021-09-16T03:34:27.492246Z",
     "shell.execute_reply": "2021-09-16T03:34:27.492246Z",
     "shell.execute_reply.started": "2021-09-16T03:34:27.478253Z"
    }
   },
   "outputs": [
    {
     "name": "stdout",
     "output_type": "stream",
     "text": [
      "1542\n"
     ]
    }
   ],
   "source": [
    "# Do not change this cell \n",
    "print(prediction_result())"
   ]
  },
  {
   "cell_type": "markdown",
   "metadata": {},
   "source": [
    "---"
   ]
  }
 ],
 "metadata": {
  "kernelspec": {
   "display_name": "Python 3",
   "language": "python",
   "name": "python3"
  },
  "language_info": {
   "codemirror_mode": {
    "name": "ipython",
    "version": 3
   },
   "file_extension": ".py",
   "mimetype": "text/x-python",
   "name": "python",
   "nbconvert_exporter": "python",
   "pygments_lexer": "ipython3",
   "version": "3.8.8"
  }
 },
 "nbformat": 4,
 "nbformat_minor": 4
}

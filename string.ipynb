{
 "cells": [
  {
   "cell_type": "markdown",
   "metadata": {},
   "source": [
    "Lab 3\n",
    "---\n",
    "Hello All,\n",
    "\n",
    "Welcome to the DSCI 510's lab.\n",
    "\n",
    "Guidelines for the Lab:\n",
    "- You will be given the lab assignment in the start of the lab. You're supposed to complete it by the deadline, Thursday 11:59pm PDT.  \n",
    "\n",
    "- You've to complete the assignments individually. If you are having trouble completing the assignment do let me know, I will clear your doubts and guide you but I'll not write code for you and no one else should :) !!!  \n",
    "\n",
    "- You have to fill in the code in this notebook and upload it for submission. While doing this, make sure that all supporting files that you download from D2L or blackboard are in the same directory as this notebook.  \n",
    "\n",
    "- You are encouraged to look up resources online like python docs and stackoverflow. But, you are encouraged to look up the topics and not the questions themselves  \n",
    "\n",
    "- Your last submission before the deadline will be counted towards your grade  "
   ]
  },
  {
   "cell_type": "raw",
   "metadata": {},
   "source": []
  },
  {
   "cell_type": "markdown",
   "metadata": {},
   "source": [
    "Q1.[10 points]\n",
    "---\n",
    "Given a password(string), return the score of the password as per the formula below and classify into categories as described below.\n",
    "\n",
    "$l = number\\ of\\ lowercase\\ characters$  \n",
    "$u = number\\ of\\ uppercase\\ characters$  \n",
    "$d = number\\ of\\ digits(0-9)$  \n",
    "$s = number\\ of\\ special\\ characters(any\\ character\\ not\\ in\\ l,u,d)$  \n",
    "$unique = number\\ of\\ unique\\ characters(characters\\ that\\ appear\\ atleast\\ once)$  \n",
    "$entropy = log_2(unique^{l+u+d+s})$\n",
    "\n",
    "$Formula:$  \n",
    "$score = (l*0.2+u*0.4+d*0.3+s*0.5)*entropy$  \n",
    "\n",
    "Classification -> Weak: $score<=50$, Medium: $50<score<=100$, Strong: $score>100$  \n",
    "\n",
    "**Print the Classification category and return the score calculated from the above formula.**  \n",
    "\n",
    "Input: string  \n",
    "Output: Return->float, print->string\n",
    "\n",
    "Note1: Importing math is fine for this question.  \n",
    "Note2: You are allowed to use the **unique_characters** function given to you.\n",
    "\n",
    "Example:  \n",
    "1. \n",
    "```\n",
    "Input  \n",
    "password  \n",
    "Output  \n",
    "Print: Weak password  \n",
    "Return: 35.934143002337336  \n",
    "```\n",
    "2. \n",
    "```\n",
    "Input  \n",
    "badpassword123!  \n",
    "Output  \n",
    "Print: Strong password  \n",
    "Return: 193.58797503894243  \n",
    "```\n",
    "\n",
    "---\n",
    "Grading Rubric: 5 points if either of classification or score is incorrect. 10 points if both are correct. "
   ]
  },
  {
   "cell_type": "code",
   "execution_count": 5,
   "metadata": {
    "execution": {
     "iopub.execute_input": "2021-09-09T00:08:28.174716Z",
     "iopub.status.busy": "2021-09-09T00:08:28.173720Z",
     "iopub.status.idle": "2021-09-09T00:08:28.186683Z",
     "shell.execute_reply": "2021-09-09T00:08:28.185685Z",
     "shell.execute_reply.started": "2021-09-09T00:08:28.174716Z"
    }
   },
   "outputs": [],
   "source": [
    "# returns number of unique characters in a given string\n",
    "def unique_characters(string):\n",
    "    unique = 0\n",
    "    for i in range(128):\n",
    "        if chr(i) in string:\n",
    "            unique += 1\n",
    "    return unique"
   ]
  },
  {
   "cell_type": "code",
   "execution_count": 95,
   "metadata": {
    "execution": {
     "iopub.execute_input": "2021-09-09T04:36:47.349211Z",
     "iopub.status.busy": "2021-09-09T04:36:47.349211Z",
     "iopub.status.idle": "2021-09-09T04:36:47.362176Z",
     "shell.execute_reply": "2021-09-09T04:36:47.362176Z",
     "shell.execute_reply.started": "2021-09-09T04:36:47.349211Z"
    }
   },
   "outputs": [],
   "source": [
    "import math\n",
    "# Use this cell for your solution\n",
    "def lowercase_characters(string):\n",
    "    lowercase = 0\n",
    "    for i in string:\n",
    "        if i.islower() == True:\n",
    "            lowercase += 1\n",
    "    return lowercase\n",
    "\n",
    "def uppercase_characters(string):\n",
    "    uppercase = 0\n",
    "    for i in string:\n",
    "        if i.isupper() == True:\n",
    "            uppercase += 1\n",
    "    return uppercase\n",
    "\n",
    "def digit_number(string):\n",
    "    number = 0\n",
    "    for i in range(48,58):\n",
    "        if chr(i) in string:\n",
    "            number += 1\n",
    "    return number\n",
    "\n",
    "def special_character_number(string):\n",
    "    #number = 0\n",
    "    #for i in string:\n",
    "     #   if (i not in range(97,123)) and (i not in range(65,91)) and (i not in range(48,58)):\n",
    "      #      number += 1\n",
    "    #return number\n",
    "    return (len(string)-digit_number(string)-lowercase_characters(string)-uppercase_characters(string))\n",
    "            \n",
    "def password_strength(password):\n",
    "    l = lowercase_characters(password)\n",
    "    u = uppercase_characters(password)\n",
    "    d = digit_number(password)\n",
    "    s = special_character_number(password)\n",
    "    unique = unique_characters(password)\n",
    "    entropy = math.log2(math.pow(unique,l+u+d+s))\n",
    "    score = (l*0.2+u*0.4+d*0.3+s*0.5)*entropy\n",
    "    if score<=50:\n",
    "        print (\"Weak password\")\n",
    "    elif score>50 and score<=100:\n",
    "        print (\"Medium password\")\n",
    "    elif score>100:\n",
    "        print (\"Strong password\")\n",
    "    return score"
   ]
  },
  {
   "cell_type": "code",
   "execution_count": 97,
   "metadata": {
    "execution": {
     "iopub.execute_input": "2021-09-09T04:37:07.625200Z",
     "iopub.status.busy": "2021-09-09T04:37:07.624203Z",
     "iopub.status.idle": "2021-09-09T04:37:07.631184Z",
     "shell.execute_reply": "2021-09-09T04:37:07.631184Z",
     "shell.execute_reply.started": "2021-09-09T04:37:07.625200Z"
    }
   },
   "outputs": [
    {
     "name": "stdout",
     "output_type": "stream",
     "text": [
      "Strong password\n"
     ]
    },
    {
     "data": {
      "text/plain": [
       "193.58797503894243"
      ]
     },
     "execution_count": 97,
     "metadata": {},
     "output_type": "execute_result"
    }
   ],
   "source": [
    "password_strength(\"badpassword123!\")"
   ]
  },
  {
   "cell_type": "code",
   "execution_count": 49,
   "metadata": {
    "execution": {
     "iopub.execute_input": "2021-09-09T01:18:25.435959Z",
     "iopub.status.busy": "2021-09-09T01:18:25.435959Z",
     "iopub.status.idle": "2021-09-09T01:18:25.440945Z",
     "shell.execute_reply": "2021-09-09T01:18:25.440945Z",
     "shell.execute_reply.started": "2021-09-09T01:18:25.435959Z"
    }
   },
   "outputs": [
    {
     "name": "stdout",
     "output_type": "stream",
     "text": [
      "8 0 0 7 15\n"
     ]
    }
   ],
   "source": [
    "stri = \"password\"\n",
    "l = lowercase_characters(stri)\n",
    "u = uppercase_characters(stri)\n",
    "d = digit_number(stri)\n",
    "s = special_character_number(stri)\n",
    "print(l,u,d,s,l+u+d+s)"
   ]
  },
  {
   "cell_type": "code",
   "execution_count": 85,
   "metadata": {
    "execution": {
     "iopub.execute_input": "2021-09-09T04:01:11.665761Z",
     "iopub.status.busy": "2021-09-09T04:01:11.665761Z",
     "iopub.status.idle": "2021-09-09T04:01:11.676730Z",
     "shell.execute_reply": "2021-09-09T04:01:11.676730Z",
     "shell.execute_reply.started": "2021-09-09T04:01:11.665761Z"
    }
   },
   "outputs": [
    {
     "data": {
      "text/plain": [
       "7"
      ]
     },
     "execution_count": 85,
     "metadata": {},
     "output_type": "execute_result"
    }
   ],
   "source": [
    "unique_characters(\"password\")"
   ]
  },
  {
   "cell_type": "code",
   "execution_count": 81,
   "metadata": {
    "execution": {
     "iopub.execute_input": "2021-09-09T03:58:29.406653Z",
     "iopub.status.busy": "2021-09-09T03:58:29.406653Z",
     "iopub.status.idle": "2021-09-09T03:58:29.424606Z",
     "shell.execute_reply": "2021-09-09T03:58:29.424606Z",
     "shell.execute_reply.started": "2021-09-09T03:58:29.406653Z"
    }
   },
   "outputs": [
    {
     "data": {
      "text/plain": [
       "214.761"
      ]
     },
     "execution_count": 81,
     "metadata": {},
     "output_type": "execute_result"
    }
   ],
   "source": [
    "5.1*42.11"
   ]
  },
  {
   "cell_type": "markdown",
   "metadata": {},
   "source": [
    "Q2.[10 points]\n",
    "---\n",
    "ROT13 (\"rotate by 13 places\", sometimes hyphenated ROT-13) is a simple encryption algorithm developed in ancient rome that replaces a letter with the 13th letter after it, in the alphabet. The algorithm provides virtually no cryptographic security and is often cited as a canonical example of weak encryption.  \n",
    "\n",
    "![title](https://upload.wikimedia.org/wikipedia/commons/3/33/ROT13_table_with_example.svg)\n",
    "\n",
    "Extend the original ROT13 algorithm, and write code for such a rotation whose rotation places is passed in the argument. Essentially, you have to write a ROTx whose x is passed as a argument. Each letter would be replaced by a letter some fixed number of positions down the alphabet.  \n",
    "\n",
    "Essentially, like this if rotation_places=3, \n",
    "\n",
    "![title](https://www.secplicity.org/wp-content/uploads/2017/05/Caesar_substition_cipher-750x393.png)  \n",
    "\n",
    "Note: You have to **preserve the letter case** for each character in the alphabet. However, for **\"characters not in the alphabet\"**, you can simply **shift them down the ascii sequence** and rotate over the end of ascii characters if needed(which is considered to be 128(0-127) for this lab).  \n",
    "\n",
    "Input: string, int  \n",
    "Return Output: string\n",
    "\n",
    "Example:  \n",
    "1. \n",
    "```\n",
    "Input  \n",
    "msg='hello', rotation_places=13  \n",
    "Output  \n",
    "uryyb\n",
    "```\n",
    "2. \n",
    "```\n",
    "Input  \n",
    "msg='xyz ', rotation_places=4  \n",
    "Output  \n",
    "bcd$\n",
    "```\n",
    "3. \n",
    "```\n",
    "Input  \n",
    "msg='wow!!!', rotation_places=12  \n",
    "Output  \n",
    "iai---\n",
    "```\n",
    "\n",
    "---\n",
    "Grading Rubric:  \n",
    "5 points if code returns correct answer but, letter case is not same or rotation over end of alphabet is not handled.  \n",
    "8 points if 5 points condition is satisfied but, special character rotation fails in corner cases :).  \n",
    "10 points if all is correct.  "
   ]
  },
  {
   "cell_type": "code",
   "execution_count": 68,
   "metadata": {
    "execution": {
     "iopub.execute_input": "2021-09-09T02:50:20.007808Z",
     "iopub.status.busy": "2021-09-09T02:50:20.007808Z",
     "iopub.status.idle": "2021-09-09T02:50:20.028753Z",
     "shell.execute_reply": "2021-09-09T02:50:20.027755Z",
     "shell.execute_reply.started": "2021-09-09T02:50:20.007808Z"
    }
   },
   "outputs": [],
   "source": [
    "def rot(msg, rotation_places):\n",
    "    for i in msg:\n",
    "        if ord(i) in range(65,91):\n",
    "            if ord(i)+rotation_places%26<91:\n",
    "                msg = msg.replace(i,chr(ord(i)+rotation_places%26))\n",
    "            else:\n",
    "                msg = msg.replace(i,chr(ord(i)+rotation_places%26-91+65))\n",
    "        elif ord(i) in range(97,123):\n",
    "            if ord(i)+rotation_places%26<123:\n",
    "                msg = msg.replace(i,chr(ord(i)+rotation_places%26))\n",
    "            else:\n",
    "                msg = msg.replace(i,chr(ord(i)+rotation_places%26-123+97))\n",
    "        else:\n",
    "            if ord(i)+rotation_places%128<128:\n",
    "                msg = msg.replace(i,chr(ord(i)+rotation_places%128))\n",
    "            else:\n",
    "                msg = msg.replace(i,chr(ord(i)+rotation_places%128-128+0))\n",
    "    return msg"
   ]
  },
  {
   "cell_type": "code",
   "execution_count": 71,
   "metadata": {
    "execution": {
     "iopub.execute_input": "2021-09-09T02:52:46.626269Z",
     "iopub.status.busy": "2021-09-09T02:52:46.626269Z",
     "iopub.status.idle": "2021-09-09T02:52:46.635246Z",
     "shell.execute_reply": "2021-09-09T02:52:46.635246Z",
     "shell.execute_reply.started": "2021-09-09T02:52:46.626269Z"
    }
   },
   "outputs": [
    {
     "name": "stdout",
     "output_type": "stream",
     "text": [
      "Your output for msg=hello and rotation places=13 is uryyb\n",
      "Your output for msg=xyz  and rotation places=4 is bcd$\n",
      "Your output for msg=wow!!! and rotation places=12 is iai---\n"
     ]
    }
   ],
   "source": [
    "print('Your output for msg=hello and rotation places=13 is', rot('hello', 13))\n",
    "print('Your output for msg=xyz  and rotation places=4 is', rot('xyz ', 4))\n",
    "print('Your output for msg=wow!!! and rotation places=12 is', rot('wow!!!', 12))"
   ]
  },
  {
   "cell_type": "code",
   "execution_count": 93,
   "metadata": {
    "execution": {
     "iopub.execute_input": "2021-09-09T04:31:01.633048Z",
     "iopub.status.busy": "2021-09-09T04:31:01.633048Z",
     "iopub.status.idle": "2021-09-09T04:31:01.648019Z",
     "shell.execute_reply": "2021-09-09T04:31:01.648019Z",
     "shell.execute_reply.started": "2021-09-09T04:31:01.633048Z"
    }
   },
   "outputs": [
    {
     "data": {
      "text/plain": [
       "'\\x0c\\x0c\\x0c'"
      ]
     },
     "execution_count": 93,
     "metadata": {},
     "output_type": "execute_result"
    }
   ],
   "source": [
    "rot(\"~~~\", 14)"
   ]
  },
  {
   "cell_type": "code",
   "execution_count": 1,
   "metadata": {
    "execution": {
     "iopub.execute_input": "2021-09-10T02:48:55.624836Z",
     "iopub.status.busy": "2021-09-10T02:48:55.624836Z",
     "iopub.status.idle": "2021-09-10T02:48:55.640793Z",
     "shell.execute_reply": "2021-09-10T02:48:55.639807Z",
     "shell.execute_reply.started": "2021-09-10T02:48:55.624836Z"
    }
   },
   "outputs": [
    {
     "data": {
      "text/plain": [
       "'\\x01'"
      ]
     },
     "execution_count": 1,
     "metadata": {},
     "output_type": "execute_result"
    }
   ],
   "source": [
    "chr(1)"
   ]
  },
  {
   "cell_type": "markdown",
   "metadata": {},
   "source": [
    "Q3.[10 points]\n",
    "---\n",
    "You are given a `word` string and a `character` string. While parsing from the start to the end in `word`, if you encounter `character` in the string, then you need to swap the string before the `character` in `word` with the string after the `character`. After doing this, you need to keep doing this \"parse and swap\" operation from the index+1 you swapped. You need to return the string after these operations.  \n",
    "\n",
    "For example, if word='abcd' and character='b', then output is 'abcd'. (abcd->cdba->abcd)\n",
    "\n",
    "---\n",
    "Example 1:  \n",
    "Input:  \n",
    "word='abc' character='b'  \n",
    "Output:  \n",
    "'cba'  \n",
    "Example 2:  \n",
    "Input:  \n",
    "word='philippines' character='i'  \n",
    "Output:  \n",
    "'philippines'\n",
    "\n",
    "---\n",
    "Grading Rubric: 5 points if the given test cases(namely example 1 and 2) pass. 10 points if it works for hidden test cases too. "
   ]
  },
  {
   "cell_type": "code",
   "execution_count": 72,
   "metadata": {
    "execution": {
     "iopub.execute_input": "2021-09-09T03:27:18.621585Z",
     "iopub.status.busy": "2021-09-09T03:27:18.621585Z",
     "iopub.status.idle": "2021-09-09T03:27:18.636543Z",
     "shell.execute_reply": "2021-09-09T03:27:18.636543Z",
     "shell.execute_reply.started": "2021-09-09T03:27:18.621585Z"
    }
   },
   "outputs": [],
   "source": [
    "# Use this cell for your solution\n",
    "\n",
    "def reverse_all(word, character):\n",
    "    for i in range(len(word)):\n",
    "        if word[i] == character:\n",
    "            word = word[i+1:]+character+word[:i]\n",
    "    return word"
   ]
  },
  {
   "cell_type": "code",
   "execution_count": 73,
   "metadata": {
    "execution": {
     "iopub.execute_input": "2021-09-09T03:27:19.568470Z",
     "iopub.status.busy": "2021-09-09T03:27:19.568470Z",
     "iopub.status.idle": "2021-09-09T03:27:19.586650Z",
     "shell.execute_reply": "2021-09-09T03:27:19.586650Z",
     "shell.execute_reply.started": "2021-09-09T03:27:19.568470Z"
    }
   },
   "outputs": [
    {
     "name": "stdout",
     "output_type": "stream",
     "text": [
      "Your output -> cba Actual output -> cba\n",
      "Your output -> philippines Actual output -> philippines\n"
     ]
    }
   ],
   "source": [
    "# Do not change this cell \n",
    "print('Your output ->', reverse_all('abc', 'b'), 'Actual output -> cba')\n",
    "print('Your output ->', reverse_all('philippines', 'i'), 'Actual output -> philippines')\n",
    "# lippinesiph\n",
    "# nesiphilipp\n",
    "# lippinesiph\n",
    "# philippines"
   ]
  },
  {
   "cell_type": "markdown",
   "metadata": {},
   "source": [
    "Finished Early? \n",
    "\n",
    "Bonus Question[5 points] \n",
    "---\n",
    "Person A comes to class every nth day and person B comes to class every mth day. After how many days will they meet for first time after the classes have started?  \n",
    "\n",
    "Input: integer, integer  \n",
    "Output: return->integer  \n",
    "\n",
    "Yes, there is an obvious implementation to this. Can you make it **faster**?  \n",
    "\n",
    "Example:  \n",
    "```\n",
    "Input  \n",
    "n=2, m=3  \n",
    "Output  \n",
    "6\n",
    "```\n",
    "\n",
    "---\n",
    "Grading Rubric: Binary"
   ]
  },
  {
   "cell_type": "code",
   "execution_count": 36,
   "metadata": {
    "execution": {
     "iopub.execute_input": "2021-09-09T17:38:35.217654Z",
     "iopub.status.busy": "2021-09-09T17:38:35.217654Z",
     "iopub.status.idle": "2021-09-09T17:38:35.236603Z",
     "shell.execute_reply": "2021-09-09T17:38:35.235605Z",
     "shell.execute_reply.started": "2021-09-09T17:38:35.217654Z"
    }
   },
   "outputs": [],
   "source": [
    "def every_n_m_day(n, m):\n",
    "    day = 0\n",
    "    if n>m:\n",
    "        greater = n\n",
    "    else:\n",
    "        greater = m\n",
    "    while True:\n",
    "        if (greater+day)%n!=0 or (greater+day)%m!=0:\n",
    "            day += 1\n",
    "        else:\n",
    "            break\n",
    "    return day+greater"
   ]
  },
  {
   "cell_type": "code",
   "execution_count": 39,
   "metadata": {
    "execution": {
     "iopub.execute_input": "2021-09-09T17:41:24.204693Z",
     "iopub.status.busy": "2021-09-09T17:41:24.204693Z",
     "iopub.status.idle": "2021-09-09T17:41:24.221649Z",
     "shell.execute_reply": "2021-09-09T17:41:24.221649Z",
     "shell.execute_reply.started": "2021-09-09T17:41:24.204693Z"
    }
   },
   "outputs": [
    {
     "data": {
      "text/plain": [
       "6"
      ]
     },
     "execution_count": 39,
     "metadata": {},
     "output_type": "execute_result"
    }
   ],
   "source": [
    "every_n_m_day(2,3)"
   ]
  }
 ],
 "metadata": {
  "kernelspec": {
   "display_name": "Python 3",
   "language": "python",
   "name": "python3"
  },
  "language_info": {
   "codemirror_mode": {
    "name": "ipython",
    "version": 3
   },
   "file_extension": ".py",
   "mimetype": "text/x-python",
   "name": "python",
   "nbconvert_exporter": "python",
   "pygments_lexer": "ipython3",
   "version": "3.8.8"
  }
 },
 "nbformat": 4,
 "nbformat_minor": 4
}
